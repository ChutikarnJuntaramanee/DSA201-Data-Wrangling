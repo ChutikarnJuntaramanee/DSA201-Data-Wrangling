{
  "nbformat": 4,
  "nbformat_minor": 0,
  "metadata": {
    "colab": {
      "name": "Covid_Thailand.ipynb",
      "provenance": [],
      "authorship_tag": "ABX9TyNrOCBdpWE5cmcUT4AP2ofI",
      "include_colab_link": true
    },
    "kernelspec": {
      "name": "python3",
      "display_name": "Python 3"
    },
    "language_info": {
      "name": "python"
    }
  },
  "cells": [
    {
      "cell_type": "markdown",
      "metadata": {
        "id": "view-in-github",
        "colab_type": "text"
      },
      "source": [
        "<a href=\"https://colab.research.google.com/github/ChutikarnJuntaramanee/DSA201Ass1/blob/main/Covid_Thailand.ipynb\" target=\"_parent\"><img src=\"https://colab.research.google.com/assets/colab-badge.svg\" alt=\"Open In Colab\"/></a>"
      ]
    },
    {
      "cell_type": "code",
      "metadata": {
        "id": "VB18eGlUpH-h"
      },
      "source": [
        "import pandas as pd\n",
        "import numpy as np\n",
        "import json\n",
        "import requests\n",
        "import matplotlib.pyplot as plt"
      ],
      "execution_count": 101,
      "outputs": []
    },
    {
      "cell_type": "code",
      "metadata": {
        "colab": {
          "base_uri": "https://localhost:8080/",
          "height": 206
        },
        "id": "a7Hv-IHEpWCc",
        "outputId": "55a2c106-4339-4c19-a2ad-ef210e38e89a"
      },
      "source": [
        "C1 = pd.read_json(r'round-1to2-by-provinces.json')\n",
        "C1.rename(columns={'txn_date':'Date', 'province':'Province', 'new_case':'New Case', 'total_case':'Total Case', 'update_date':'Update date'}, inplace=True)\n",
        "C1.head()"
      ],
      "execution_count": 104,
      "outputs": [
        {
          "output_type": "execute_result",
          "data": {
            "text/html": [
              "<div>\n",
              "<style scoped>\n",
              "    .dataframe tbody tr th:only-of-type {\n",
              "        vertical-align: middle;\n",
              "    }\n",
              "\n",
              "    .dataframe tbody tr th {\n",
              "        vertical-align: top;\n",
              "    }\n",
              "\n",
              "    .dataframe thead th {\n",
              "        text-align: right;\n",
              "    }\n",
              "</style>\n",
              "<table border=\"1\" class=\"dataframe\">\n",
              "  <thead>\n",
              "    <tr style=\"text-align: right;\">\n",
              "      <th></th>\n",
              "      <th>Date</th>\n",
              "      <th>Province</th>\n",
              "      <th>New Case</th>\n",
              "      <th>Total Case</th>\n",
              "      <th>Update date</th>\n",
              "    </tr>\n",
              "  </thead>\n",
              "  <tbody>\n",
              "    <tr>\n",
              "      <th>0</th>\n",
              "      <td>2020-01-12</td>\n",
              "      <td>กระบี่</td>\n",
              "      <td>0</td>\n",
              "      <td>0</td>\n",
              "      <td>NaN</td>\n",
              "    </tr>\n",
              "    <tr>\n",
              "      <th>1</th>\n",
              "      <td>2020-01-12</td>\n",
              "      <td>กรุงเทพมหานคร</td>\n",
              "      <td>1</td>\n",
              "      <td>1</td>\n",
              "      <td>NaN</td>\n",
              "    </tr>\n",
              "    <tr>\n",
              "      <th>2</th>\n",
              "      <td>2020-01-12</td>\n",
              "      <td>กาญจนบุรี</td>\n",
              "      <td>0</td>\n",
              "      <td>0</td>\n",
              "      <td>NaN</td>\n",
              "    </tr>\n",
              "    <tr>\n",
              "      <th>3</th>\n",
              "      <td>2020-01-12</td>\n",
              "      <td>กาฬสินธุ์</td>\n",
              "      <td>0</td>\n",
              "      <td>0</td>\n",
              "      <td>NaN</td>\n",
              "    </tr>\n",
              "    <tr>\n",
              "      <th>4</th>\n",
              "      <td>2020-01-12</td>\n",
              "      <td>กำแพงเพชร</td>\n",
              "      <td>0</td>\n",
              "      <td>0</td>\n",
              "      <td>NaN</td>\n",
              "    </tr>\n",
              "  </tbody>\n",
              "</table>\n",
              "</div>"
            ],
            "text/plain": [
              "         Date       Province  New Case  Total Case  Update date\n",
              "0  2020-01-12         กระบี่         0           0          NaN\n",
              "1  2020-01-12  กรุงเทพมหานคร         1           1          NaN\n",
              "2  2020-01-12      กาญจนบุรี         0           0          NaN\n",
              "3  2020-01-12      กาฬสินธุ์         0           0          NaN\n",
              "4  2020-01-12      กำแพงเพชร         0           0          NaN"
            ]
          },
          "metadata": {},
          "execution_count": 104
        }
      ]
    },
    {
      "cell_type": "code",
      "metadata": {
        "colab": {
          "base_uri": "https://localhost:8080/",
          "height": 206
        },
        "id": "fSRtpykWpZku",
        "outputId": "16055dce-e824-4dbf-9903-550ae0cbc4c9"
      },
      "source": [
        "C2 = pd.read_json(r'timeline-cases-by-provinces.json')\n",
        "C2.rename(columns={'txn_date':'Date', 'province':'Province', 'new_case':'New Case', 'total_case':'Total Case', 'update_date':'Update date'}, inplace=True)\n",
        "C2.head()"
      ],
      "execution_count": 105,
      "outputs": [
        {
          "output_type": "execute_result",
          "data": {
            "text/html": [
              "<div>\n",
              "<style scoped>\n",
              "    .dataframe tbody tr th:only-of-type {\n",
              "        vertical-align: middle;\n",
              "    }\n",
              "\n",
              "    .dataframe tbody tr th {\n",
              "        vertical-align: top;\n",
              "    }\n",
              "\n",
              "    .dataframe thead th {\n",
              "        text-align: right;\n",
              "    }\n",
              "</style>\n",
              "<table border=\"1\" class=\"dataframe\">\n",
              "  <thead>\n",
              "    <tr style=\"text-align: right;\">\n",
              "      <th></th>\n",
              "      <th>Date</th>\n",
              "      <th>Province</th>\n",
              "      <th>New Case</th>\n",
              "      <th>Total Case</th>\n",
              "      <th>Update date</th>\n",
              "    </tr>\n",
              "  </thead>\n",
              "  <tbody>\n",
              "    <tr>\n",
              "      <th>0</th>\n",
              "      <td>2021-04-01</td>\n",
              "      <td>กระบี่</td>\n",
              "      <td>0</td>\n",
              "      <td>27</td>\n",
              "      <td>2021-08-19 07:39:31</td>\n",
              "    </tr>\n",
              "    <tr>\n",
              "      <th>1</th>\n",
              "      <td>2021-04-01</td>\n",
              "      <td>กรุงเทพมหานคร</td>\n",
              "      <td>11</td>\n",
              "      <td>4855</td>\n",
              "      <td>2021-08-19 07:39:31</td>\n",
              "    </tr>\n",
              "    <tr>\n",
              "      <th>2</th>\n",
              "      <td>2021-04-01</td>\n",
              "      <td>กาญจนบุรี</td>\n",
              "      <td>0</td>\n",
              "      <td>16</td>\n",
              "      <td>2021-08-19 07:39:31</td>\n",
              "    </tr>\n",
              "    <tr>\n",
              "      <th>3</th>\n",
              "      <td>2021-04-01</td>\n",
              "      <td>กาฬสินธุ์</td>\n",
              "      <td>0</td>\n",
              "      <td>4</td>\n",
              "      <td>2021-08-19 07:39:31</td>\n",
              "    </tr>\n",
              "    <tr>\n",
              "      <th>4</th>\n",
              "      <td>2021-04-01</td>\n",
              "      <td>กำแพงเพชร</td>\n",
              "      <td>0</td>\n",
              "      <td>2</td>\n",
              "      <td>2021-08-19 07:39:31</td>\n",
              "    </tr>\n",
              "  </tbody>\n",
              "</table>\n",
              "</div>"
            ],
            "text/plain": [
              "         Date       Province  New Case  Total Case          Update date\n",
              "0  2021-04-01         กระบี่         0          27  2021-08-19 07:39:31\n",
              "1  2021-04-01  กรุงเทพมหานคร        11        4855  2021-08-19 07:39:31\n",
              "2  2021-04-01      กาญจนบุรี         0          16  2021-08-19 07:39:31\n",
              "3  2021-04-01      กาฬสินธุ์         0           4  2021-08-19 07:39:31\n",
              "4  2021-04-01      กำแพงเพชร         0           2  2021-08-19 07:39:31"
            ]
          },
          "metadata": {},
          "execution_count": 105
        }
      ]
    },
    {
      "cell_type": "code",
      "metadata": {
        "colab": {
          "base_uri": "https://localhost:8080/",
          "height": 206
        },
        "id": "T57oiOaCpg5T",
        "outputId": "8ef10284-ccd9-4ec0-b8d1-e4c15fa53850"
      },
      "source": [
        "#Group THA\n",
        "THA_CASE = C1.append(C2)\n",
        "THA_CASE.head()"
      ],
      "execution_count": 106,
      "outputs": [
        {
          "output_type": "execute_result",
          "data": {
            "text/html": [
              "<div>\n",
              "<style scoped>\n",
              "    .dataframe tbody tr th:only-of-type {\n",
              "        vertical-align: middle;\n",
              "    }\n",
              "\n",
              "    .dataframe tbody tr th {\n",
              "        vertical-align: top;\n",
              "    }\n",
              "\n",
              "    .dataframe thead th {\n",
              "        text-align: right;\n",
              "    }\n",
              "</style>\n",
              "<table border=\"1\" class=\"dataframe\">\n",
              "  <thead>\n",
              "    <tr style=\"text-align: right;\">\n",
              "      <th></th>\n",
              "      <th>Date</th>\n",
              "      <th>Province</th>\n",
              "      <th>New Case</th>\n",
              "      <th>Total Case</th>\n",
              "      <th>Update date</th>\n",
              "    </tr>\n",
              "  </thead>\n",
              "  <tbody>\n",
              "    <tr>\n",
              "      <th>0</th>\n",
              "      <td>2020-01-12</td>\n",
              "      <td>กระบี่</td>\n",
              "      <td>0</td>\n",
              "      <td>0</td>\n",
              "      <td>NaN</td>\n",
              "    </tr>\n",
              "    <tr>\n",
              "      <th>1</th>\n",
              "      <td>2020-01-12</td>\n",
              "      <td>กรุงเทพมหานคร</td>\n",
              "      <td>1</td>\n",
              "      <td>1</td>\n",
              "      <td>NaN</td>\n",
              "    </tr>\n",
              "    <tr>\n",
              "      <th>2</th>\n",
              "      <td>2020-01-12</td>\n",
              "      <td>กาญจนบุรี</td>\n",
              "      <td>0</td>\n",
              "      <td>0</td>\n",
              "      <td>NaN</td>\n",
              "    </tr>\n",
              "    <tr>\n",
              "      <th>3</th>\n",
              "      <td>2020-01-12</td>\n",
              "      <td>กาฬสินธุ์</td>\n",
              "      <td>0</td>\n",
              "      <td>0</td>\n",
              "      <td>NaN</td>\n",
              "    </tr>\n",
              "    <tr>\n",
              "      <th>4</th>\n",
              "      <td>2020-01-12</td>\n",
              "      <td>กำแพงเพชร</td>\n",
              "      <td>0</td>\n",
              "      <td>0</td>\n",
              "      <td>NaN</td>\n",
              "    </tr>\n",
              "  </tbody>\n",
              "</table>\n",
              "</div>"
            ],
            "text/plain": [
              "         Date       Province  New Case  Total Case Update date\n",
              "0  2020-01-12         กระบี่         0           0         NaN\n",
              "1  2020-01-12  กรุงเทพมหานคร         1           1         NaN\n",
              "2  2020-01-12      กาญจนบุรี         0           0         NaN\n",
              "3  2020-01-12      กาฬสินธุ์         0           0         NaN\n",
              "4  2020-01-12      กำแพงเพชร         0           0         NaN"
            ]
          },
          "metadata": {},
          "execution_count": 106
        }
      ]
    },
    {
      "cell_type": "code",
      "metadata": {
        "colab": {
          "base_uri": "https://localhost:8080/",
          "height": 237
        },
        "id": "OubY7RfEpm3V",
        "outputId": "0e031d35-8716-46e5-abf9-05bacadc993d"
      },
      "source": [
        "THA_CASE2 = THA_CASE.groupby(['Date']).sum()\n",
        "THA_CASE2.head()"
      ],
      "execution_count": 107,
      "outputs": [
        {
          "output_type": "execute_result",
          "data": {
            "text/html": [
              "<div>\n",
              "<style scoped>\n",
              "    .dataframe tbody tr th:only-of-type {\n",
              "        vertical-align: middle;\n",
              "    }\n",
              "\n",
              "    .dataframe tbody tr th {\n",
              "        vertical-align: top;\n",
              "    }\n",
              "\n",
              "    .dataframe thead th {\n",
              "        text-align: right;\n",
              "    }\n",
              "</style>\n",
              "<table border=\"1\" class=\"dataframe\">\n",
              "  <thead>\n",
              "    <tr style=\"text-align: right;\">\n",
              "      <th></th>\n",
              "      <th>New Case</th>\n",
              "      <th>Total Case</th>\n",
              "    </tr>\n",
              "    <tr>\n",
              "      <th>Date</th>\n",
              "      <th></th>\n",
              "      <th></th>\n",
              "    </tr>\n",
              "  </thead>\n",
              "  <tbody>\n",
              "    <tr>\n",
              "      <th>2020-01-12</th>\n",
              "      <td>1</td>\n",
              "      <td>1</td>\n",
              "    </tr>\n",
              "    <tr>\n",
              "      <th>2020-01-17</th>\n",
              "      <td>1</td>\n",
              "      <td>2</td>\n",
              "    </tr>\n",
              "    <tr>\n",
              "      <th>2020-01-22</th>\n",
              "      <td>2</td>\n",
              "      <td>4</td>\n",
              "    </tr>\n",
              "    <tr>\n",
              "      <th>2020-01-24</th>\n",
              "      <td>1</td>\n",
              "      <td>5</td>\n",
              "    </tr>\n",
              "    <tr>\n",
              "      <th>2020-01-25</th>\n",
              "      <td>1</td>\n",
              "      <td>6</td>\n",
              "    </tr>\n",
              "  </tbody>\n",
              "</table>\n",
              "</div>"
            ],
            "text/plain": [
              "            New Case  Total Case\n",
              "Date                            \n",
              "2020-01-12         1           1\n",
              "2020-01-17         1           2\n",
              "2020-01-22         2           4\n",
              "2020-01-24         1           5\n",
              "2020-01-25         1           6"
            ]
          },
          "metadata": {},
          "execution_count": 107
        }
      ]
    },
    {
      "cell_type": "code",
      "metadata": {
        "id": "Fkwkc4WyuqV7"
      },
      "source": [
        "C1_BKK = C1[C1['Province']=='กรุงเทพมหานคร']\n",
        "C2_BKK = C2[C2['Province']=='กรุงเทพมหานคร']"
      ],
      "execution_count": 108,
      "outputs": []
    },
    {
      "cell_type": "code",
      "metadata": {
        "colab": {
          "base_uri": "https://localhost:8080/",
          "height": 204
        },
        "id": "Zd8V3mU0psR6",
        "outputId": "97832e01-6fab-44a0-9dd3-9c16ddfd1945"
      },
      "source": [
        "#Group BKK province\n",
        "BKK_CASE = C1_BKK.append(C2_BKK)\n",
        "BKK_CASE.head()"
      ],
      "execution_count": 109,
      "outputs": [
        {
          "output_type": "execute_result",
          "data": {
            "text/html": [
              "<div>\n",
              "<style scoped>\n",
              "    .dataframe tbody tr th:only-of-type {\n",
              "        vertical-align: middle;\n",
              "    }\n",
              "\n",
              "    .dataframe tbody tr th {\n",
              "        vertical-align: top;\n",
              "    }\n",
              "\n",
              "    .dataframe thead th {\n",
              "        text-align: right;\n",
              "    }\n",
              "</style>\n",
              "<table border=\"1\" class=\"dataframe\">\n",
              "  <thead>\n",
              "    <tr style=\"text-align: right;\">\n",
              "      <th></th>\n",
              "      <th>Date</th>\n",
              "      <th>Province</th>\n",
              "      <th>New Case</th>\n",
              "      <th>Total Case</th>\n",
              "      <th>Update date</th>\n",
              "    </tr>\n",
              "  </thead>\n",
              "  <tbody>\n",
              "    <tr>\n",
              "      <th>1</th>\n",
              "      <td>2020-01-12</td>\n",
              "      <td>กรุงเทพมหานคร</td>\n",
              "      <td>1</td>\n",
              "      <td>1</td>\n",
              "      <td>NaN</td>\n",
              "    </tr>\n",
              "    <tr>\n",
              "      <th>79</th>\n",
              "      <td>2020-01-17</td>\n",
              "      <td>กรุงเทพมหานคร</td>\n",
              "      <td>1</td>\n",
              "      <td>2</td>\n",
              "      <td>NaN</td>\n",
              "    </tr>\n",
              "    <tr>\n",
              "      <th>157</th>\n",
              "      <td>2020-01-22</td>\n",
              "      <td>กรุงเทพมหานคร</td>\n",
              "      <td>1</td>\n",
              "      <td>3</td>\n",
              "      <td>NaN</td>\n",
              "    </tr>\n",
              "    <tr>\n",
              "      <th>235</th>\n",
              "      <td>2020-01-24</td>\n",
              "      <td>กรุงเทพมหานคร</td>\n",
              "      <td>0</td>\n",
              "      <td>3</td>\n",
              "      <td>NaN</td>\n",
              "    </tr>\n",
              "    <tr>\n",
              "      <th>313</th>\n",
              "      <td>2020-01-25</td>\n",
              "      <td>กรุงเทพมหานคร</td>\n",
              "      <td>1</td>\n",
              "      <td>4</td>\n",
              "      <td>NaN</td>\n",
              "    </tr>\n",
              "  </tbody>\n",
              "</table>\n",
              "</div>"
            ],
            "text/plain": [
              "           Date       Province  New Case  Total Case Update date\n",
              "1    2020-01-12  กรุงเทพมหานคร         1           1         NaN\n",
              "79   2020-01-17  กรุงเทพมหานคร         1           2         NaN\n",
              "157  2020-01-22  กรุงเทพมหานคร         1           3         NaN\n",
              "235  2020-01-24  กรุงเทพมหานคร         0           3         NaN\n",
              "313  2020-01-25  กรุงเทพมหานคร         1           4         NaN"
            ]
          },
          "metadata": {},
          "execution_count": 109
        }
      ]
    },
    {
      "cell_type": "code",
      "metadata": {
        "colab": {
          "base_uri": "https://localhost:8080/",
          "height": 235
        },
        "id": "wxBFQA2gqaI3",
        "outputId": "8e856db9-2b4c-4151-9d12-e3dbd53a6ab9"
      },
      "source": [
        "BKK_CASE2 = BKK_CASE.groupby(['Date']).sum()\n",
        "BKK_CASE2.head()"
      ],
      "execution_count": 110,
      "outputs": [
        {
          "output_type": "execute_result",
          "data": {
            "text/html": [
              "<div>\n",
              "<style scoped>\n",
              "    .dataframe tbody tr th:only-of-type {\n",
              "        vertical-align: middle;\n",
              "    }\n",
              "\n",
              "    .dataframe tbody tr th {\n",
              "        vertical-align: top;\n",
              "    }\n",
              "\n",
              "    .dataframe thead th {\n",
              "        text-align: right;\n",
              "    }\n",
              "</style>\n",
              "<table border=\"1\" class=\"dataframe\">\n",
              "  <thead>\n",
              "    <tr style=\"text-align: right;\">\n",
              "      <th></th>\n",
              "      <th>New Case</th>\n",
              "      <th>Total Case</th>\n",
              "    </tr>\n",
              "    <tr>\n",
              "      <th>Date</th>\n",
              "      <th></th>\n",
              "      <th></th>\n",
              "    </tr>\n",
              "  </thead>\n",
              "  <tbody>\n",
              "    <tr>\n",
              "      <th>2020-01-12</th>\n",
              "      <td>1</td>\n",
              "      <td>1</td>\n",
              "    </tr>\n",
              "    <tr>\n",
              "      <th>2020-01-17</th>\n",
              "      <td>1</td>\n",
              "      <td>2</td>\n",
              "    </tr>\n",
              "    <tr>\n",
              "      <th>2020-01-22</th>\n",
              "      <td>1</td>\n",
              "      <td>3</td>\n",
              "    </tr>\n",
              "    <tr>\n",
              "      <th>2020-01-24</th>\n",
              "      <td>0</td>\n",
              "      <td>3</td>\n",
              "    </tr>\n",
              "    <tr>\n",
              "      <th>2020-01-25</th>\n",
              "      <td>1</td>\n",
              "      <td>4</td>\n",
              "    </tr>\n",
              "  </tbody>\n",
              "</table>\n",
              "</div>"
            ],
            "text/plain": [
              "            New Case  Total Case\n",
              "Date                            \n",
              "2020-01-12         1           1\n",
              "2020-01-17         1           2\n",
              "2020-01-22         1           3\n",
              "2020-01-24         0           3\n",
              "2020-01-25         1           4"
            ]
          },
          "metadata": {},
          "execution_count": 110
        }
      ]
    },
    {
      "cell_type": "code",
      "metadata": {
        "colab": {
          "base_uri": "https://localhost:8080/",
          "height": 368
        },
        "id": "jkHRNU0cp3N0",
        "outputId": "52a4b5c7-ebf9-440b-da50-c3aa0b122ce2"
      },
      "source": [
        "#Daily Num of THA\n",
        "THA_CASE2.plot(y='New Case', figsize = (15,5), xlabel=\"Date\", ylabel=\"New Case\", title=\"Daily Cases in Thailand on January to August 2021\")"
      ],
      "execution_count": 126,
      "outputs": [
        {
          "output_type": "execute_result",
          "data": {
            "text/plain": [
              "<matplotlib.axes._subplots.AxesSubplot at 0x7f82ac0740d0>"
            ]
          },
          "metadata": {},
          "execution_count": 126
        },
        {
          "output_type": "display_data",
          "data": {
            "image/png": "[encoded data removed]",
            "text/plain": [
              "<Figure size 1080x360 with 1 Axes>"
            ]
          },
          "metadata": {
            "needs_background": "light"
          }
        }
      ]
    },
    {
      "cell_type": "code",
      "metadata": {
        "colab": {
          "base_uri": "https://localhost:8080/",
          "height": 368
        },
        "id": "9XZ582-Mp5KZ",
        "outputId": "06a9bd7f-39b1-45cb-e1ee-ade070f9d1fe"
      },
      "source": [
        "#Daily Num of BKK\n",
        "BKK_CASE2.plot(y='New Case', figsize = (15,5), xlabel=\"Date\", ylabel=\"New Case\", title=\"Daily Cases in Bangkok, Thailand on January to August 2021\")"
      ],
      "execution_count": 127,
      "outputs": [
        {
          "output_type": "execute_result",
          "data": {
            "text/plain": [
              "<matplotlib.axes._subplots.AxesSubplot at 0x7f82ac00ac50>"
            ]
          },
          "metadata": {},
          "execution_count": 127
        },
        {
          "output_type": "display_data",
          "data": {
            "image/png": "[encoded data removed]",
            "text/plain": [
              "<Figure size 1080x360 with 1 Axes>"
            ]
          },
          "metadata": {
            "needs_background": "light"
          }
        }
      ]
    },
    {
      "cell_type": "code",
      "metadata": {
        "colab": {
          "base_uri": "https://localhost:8080/",
          "height": 235
        },
        "id": "yYzVA4rqqe4H",
        "outputId": "9ff0d8b1-fd76-4129-8732-d48d2bac336b"
      },
      "source": [
        "# April THA\n",
        "April_THA_CASE2 = THA_CASE[(THA_CASE['Date'] >= '2021-04-01') & (THA_CASE['Date'] <= '2021-08-31')]\n",
        "April_THA_CASE_2021 = April_THA_CASE2.groupby('Date').sum()\n",
        "April_THA_CASE_2021.head()"
      ],
      "execution_count": 115,
      "outputs": [
        {
          "output_type": "execute_result",
          "data": {
            "text/html": [
              "<div>\n",
              "<style scoped>\n",
              "    .dataframe tbody tr th:only-of-type {\n",
              "        vertical-align: middle;\n",
              "    }\n",
              "\n",
              "    .dataframe tbody tr th {\n",
              "        vertical-align: top;\n",
              "    }\n",
              "\n",
              "    .dataframe thead th {\n",
              "        text-align: right;\n",
              "    }\n",
              "</style>\n",
              "<table border=\"1\" class=\"dataframe\">\n",
              "  <thead>\n",
              "    <tr style=\"text-align: right;\">\n",
              "      <th></th>\n",
              "      <th>New Case</th>\n",
              "      <th>Total Case</th>\n",
              "    </tr>\n",
              "    <tr>\n",
              "      <th>Date</th>\n",
              "      <th></th>\n",
              "      <th></th>\n",
              "    </tr>\n",
              "  </thead>\n",
              "  <tbody>\n",
              "    <tr>\n",
              "      <th>2021-04-01</th>\n",
              "      <td>26</td>\n",
              "      <td>28889</td>\n",
              "    </tr>\n",
              "    <tr>\n",
              "      <th>2021-04-02</th>\n",
              "      <td>58</td>\n",
              "      <td>28947</td>\n",
              "    </tr>\n",
              "    <tr>\n",
              "      <th>2021-04-03</th>\n",
              "      <td>84</td>\n",
              "      <td>29031</td>\n",
              "    </tr>\n",
              "    <tr>\n",
              "      <th>2021-04-04</th>\n",
              "      <td>96</td>\n",
              "      <td>29127</td>\n",
              "    </tr>\n",
              "    <tr>\n",
              "      <th>2021-04-05</th>\n",
              "      <td>194</td>\n",
              "      <td>29321</td>\n",
              "    </tr>\n",
              "  </tbody>\n",
              "</table>\n",
              "</div>"
            ],
            "text/plain": [
              "            New Case  Total Case\n",
              "Date                            \n",
              "2021-04-01        26       28889\n",
              "2021-04-02        58       28947\n",
              "2021-04-03        84       29031\n",
              "2021-04-04        96       29127\n",
              "2021-04-05       194       29321"
            ]
          },
          "metadata": {},
          "execution_count": 115
        }
      ]
    },
    {
      "cell_type": "code",
      "metadata": {
        "colab": {
          "base_uri": "https://localhost:8080/",
          "height": 368
        },
        "id": "5sPBQ5ntzPtH",
        "outputId": "90271de1-4f82-4813-8fd6-94c8932cd5a5"
      },
      "source": [
        "#Plot April THA\n",
        "April_THA_CASE_2021.plot(y='New Case', figsize = (15,5), xlabel=\"Date\", ylabel=\"New Case\", title=\"Daily Cases in Thailand on April to August 2021\")"
      ],
      "execution_count": 121,
      "outputs": [
        {
          "output_type": "execute_result",
          "data": {
            "text/plain": [
              "<matplotlib.axes._subplots.AxesSubplot at 0x7f82ac3e5590>"
            ]
          },
          "metadata": {},
          "execution_count": 121
        },
        {
          "output_type": "display_data",
          "data": {
            "image/png": "[encoded data removed]",
            "text/plain": [
              "<Figure size 1080x360 with 1 Axes>"
            ]
          },
          "metadata": {
            "needs_background": "light"
          }
        }
      ]
    },
    {
      "cell_type": "code",
      "metadata": {
        "colab": {
          "base_uri": "https://localhost:8080/",
          "height": 235
        },
        "id": "k8sDUfzW3vws",
        "outputId": "9ab0c0ae-5a9c-4ac6-f222-f468b9057320"
      },
      "source": [
        "#April BKK\n",
        "April_BKK_CASE2 = BKK_CASE[(BKK_CASE['Date'] >= '2021-04-01') & (BKK_CASE['Date'] <= '2021-08-31')]\n",
        "April_BKK_CASE_2021 = April_BKK_CASE2.groupby('Date').sum()\n",
        "April_BKK_CASE_2021.head()"
      ],
      "execution_count": 118,
      "outputs": [
        {
          "output_type": "execute_result",
          "data": {
            "text/html": [
              "<div>\n",
              "<style scoped>\n",
              "    .dataframe tbody tr th:only-of-type {\n",
              "        vertical-align: middle;\n",
              "    }\n",
              "\n",
              "    .dataframe tbody tr th {\n",
              "        vertical-align: top;\n",
              "    }\n",
              "\n",
              "    .dataframe thead th {\n",
              "        text-align: right;\n",
              "    }\n",
              "</style>\n",
              "<table border=\"1\" class=\"dataframe\">\n",
              "  <thead>\n",
              "    <tr style=\"text-align: right;\">\n",
              "      <th></th>\n",
              "      <th>New Case</th>\n",
              "      <th>Total Case</th>\n",
              "    </tr>\n",
              "    <tr>\n",
              "      <th>Date</th>\n",
              "      <th></th>\n",
              "      <th></th>\n",
              "    </tr>\n",
              "  </thead>\n",
              "  <tbody>\n",
              "    <tr>\n",
              "      <th>2021-04-01</th>\n",
              "      <td>11</td>\n",
              "      <td>4855</td>\n",
              "    </tr>\n",
              "    <tr>\n",
              "      <th>2021-04-02</th>\n",
              "      <td>24</td>\n",
              "      <td>4879</td>\n",
              "    </tr>\n",
              "    <tr>\n",
              "      <th>2021-04-03</th>\n",
              "      <td>41</td>\n",
              "      <td>4920</td>\n",
              "    </tr>\n",
              "    <tr>\n",
              "      <th>2021-04-04</th>\n",
              "      <td>41</td>\n",
              "      <td>4961</td>\n",
              "    </tr>\n",
              "    <tr>\n",
              "      <th>2021-04-05</th>\n",
              "      <td>55</td>\n",
              "      <td>5016</td>\n",
              "    </tr>\n",
              "  </tbody>\n",
              "</table>\n",
              "</div>"
            ],
            "text/plain": [
              "            New Case  Total Case\n",
              "Date                            \n",
              "2021-04-01        11        4855\n",
              "2021-04-02        24        4879\n",
              "2021-04-03        41        4920\n",
              "2021-04-04        41        4961\n",
              "2021-04-05        55        5016"
            ]
          },
          "metadata": {},
          "execution_count": 118
        }
      ]
    },
    {
      "cell_type": "code",
      "metadata": {
        "colab": {
          "base_uri": "https://localhost:8080/",
          "height": 368
        },
        "id": "GksEnCeFv9rh",
        "outputId": "ecc9bfb4-593e-4db3-f724-6911c577756b"
      },
      "source": [
        "#Plot BKK\n",
        "April_BKK_CASE_2021.plot(y='New Case', figsize = (15,5), xlabel=\"Date\", ylabel=\"New Case\", title=\"Daily Cases in Bangkok, Thailand on April to August 2021\")"
      ],
      "execution_count": 119,
      "outputs": [
        {
          "output_type": "execute_result",
          "data": {
            "text/plain": [
              "<matplotlib.axes._subplots.AxesSubplot at 0x7f82acd6e690>"
            ]
          },
          "metadata": {},
          "execution_count": 119
        },
        {
          "output_type": "display_data",
          "data": {
            "image/png": "[encoded data removed]",
            "text/plain": [
              "<Figure size 1080x360 with 1 Axes>"
            ]
          },
          "metadata": {
            "needs_background": "light"
          }
        }
      ]
    }
  ]
}