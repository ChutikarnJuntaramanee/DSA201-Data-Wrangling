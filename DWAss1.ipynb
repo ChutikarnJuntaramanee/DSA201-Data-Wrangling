{
  "nbformat": 4,
  "nbformat_minor": 0,
  "metadata": {
    "colab": {
      "name": "DWAss1.ipynb",
      "provenance": [],
      "collapsed_sections": []
    },
    "kernelspec": {
      "name": "python3",
      "display_name": "Python 3"
    },
    "language_info": {
      "name": "python"
    }
  },
  "cells": [
    {
      "cell_type": "code",
      "metadata": {
        "id": "7oPGi2V5NP70"
      },
      "source": [
        "import json\n",
        "import requests\n",
        "import pandas as pd\n",
        "import numpy as np"
      ],
      "execution_count": 1,
      "outputs": []
    },
    {
      "cell_type": "code",
      "metadata": {
        "id": "p5cbnx33Un3I"
      },
      "source": [
        "r=requests.get('https://raw.githubusercontent.com/hjorturlarsen/IMDB-top-100/master/data/movies.json')"
      ],
      "execution_count": 2,
      "outputs": []
    },
    {
      "cell_type": "code",
      "metadata": {
        "colab": {
          "base_uri": "https://localhost:8080/"
        },
        "id": "M00bjG6dUss9",
        "outputId": "ad0c47f6-9913-43a4-d5b0-e65b1f563a4c"
      },
      "source": [
        "print(r)"
      ],
      "execution_count": 3,
      "outputs": [
        {
          "output_type": "stream",
          "text": [
            "<Response [200]>\n"
          ],
          "name": "stdout"
        }
      ]
    },
    {
      "cell_type": "code",
      "metadata": {
        "colab": {
          "base_uri": "https://localhost:8080/"
        },
        "id": "F_-7w0rFUuui",
        "outputId": "16e4371d-0e62-45ca-da70-f1fe64903319"
      },
      "source": [
        "r = requests.get('https://raw.githubusercontent.com/hjorturlarsen/IMDB-top-100/master/data/movies.json')\n",
        "print(r.json())"
      ],
      "execution_count": 4,
      "outputs": [
        {
          "output_type": "stream",
          "text": [
            "[{'title': 'The Shawshank Redemption', 'rank': '1', 'id': 'tt0111161'}, {'title': 'The Godfather', 'rank': '2', 'id': 'tt0068646'}, {'title': 'The Godfather: Part II', 'rank': '3', 'id': 'tt0071562'}, {'title': 'Pulp Fiction', 'rank': '4', 'id': 'tt0110912'}, {'title': 'The Good, the Bad and the Ugly', 'rank': '5', 'id': 'tt0060196'}, {'title': 'The Dark Knight', 'rank': '6', 'id': 'tt0468569'}, {'title': '12 Angry Men', 'rank': '7', 'id': 'tt0050083'}, {'title': \"Schindler's List\", 'rank': '8', 'id': 'tt0108052'}, {'title': 'The Lord of the Rings: The Return of the King', 'rank': '9', 'id': 'tt0167260'}, {'title': 'Fight Club', 'rank': '10', 'id': 'tt0137523'}, {'title': 'Star Wars: Episode V - The Empire Strikes Back', 'rank': '11', 'id': 'tt0080684'}, {'title': 'The Lord of the Rings: The Fellowship of the Ring', 'rank': '12', 'id': 'tt0120737'}, {'title': \"One Flew Over the Cuckoo's Nest\", 'rank': '13', 'id': 'tt0073486'}, {'title': 'Inception', 'rank': '14', 'id': 'tt1375666'}, {'title': 'Goodfellas', 'rank': '15', 'id': 'tt0099685'}, {'title': 'Star Wars', 'rank': '16', 'id': 'tt0076759'}, {'title': 'Seven Samurai', 'rank': '17', 'id': 'tt0047478'}, {'title': 'Forrest Gump', 'rank': '18', 'id': 'tt0109830'}, {'title': 'The Matrix', 'rank': '19', 'id': 'tt0133093'}, {'title': 'The Lord of the Rings: The Two Towers', 'rank': '20', 'id': 'tt0167261'}, {'title': 'City of God', 'rank': '21', 'id': 'tt0317248'}, {'title': 'Se7en', 'rank': '22', 'id': 'tt0114369'}, {'title': 'The Silence of the Lambs', 'rank': '23', 'id': 'tt0102926'}, {'title': 'Once Upon a Time in the West', 'rank': '24', 'id': 'tt0064116'}, {'title': 'Casablanca', 'rank': '25', 'id': 'tt0034583'}, {'title': 'The Usual Suspects', 'rank': '26', 'id': 'tt0114814'}, {'title': 'Raiders of the Lost Ark', 'rank': '27', 'id': 'tt0082971'}, {'title': 'Rear Window', 'rank': '28', 'id': 'tt0047396'}, {'title': \"It's a Wonderful Life\", 'rank': '29', 'id': 'tt0038650'}, {'title': 'Psycho', 'rank': '30', 'id': 'tt0054215'}, {'title': 'Léon: The Professional', 'rank': '31', 'id': 'tt0110413'}, {'title': 'Sunset Blvd.', 'rank': '32', 'id': 'tt0043014'}, {'title': 'American History X', 'rank': '33', 'id': 'tt0120586'}, {'title': 'Apocalypse Now', 'rank': '34', 'id': 'tt0078788'}, {'title': 'Terminator 2: Judgment Day', 'rank': '35', 'id': 'tt0103064'}, {'title': 'Saving Private Ryan', 'rank': '36', 'id': 'tt0120815'}, {'title': 'Memento', 'rank': '37', 'id': 'tt0209144'}, {'title': 'City Lights', 'rank': '38', 'id': 'tt0021749'}, {'title': 'Dr. Strangelove or: How I Learned to Stop Worrying and Love the Bomb', 'rank': '39', 'id': 'tt0057012'}, {'title': 'Alien', 'rank': '40', 'id': 'tt0078748'}, {'title': 'Modern Times', 'rank': '41', 'id': 'tt0027977'}, {'title': 'Spirited Away', 'rank': '42', 'id': 'tt0245429'}, {'title': 'North by Northwest', 'rank': '43', 'id': 'tt0053125'}, {'title': 'Back to the Future', 'rank': '44', 'id': 'tt0088763'}, {'title': 'Life Is Beautiful', 'rank': '45', 'id': 'tt0118799'}, {'title': 'The Shining', 'rank': '46', 'id': 'tt0081505'}, {'title': 'The Pianist', 'rank': '47', 'id': 'tt0253474'}, {'title': 'Citizen Kane', 'rank': '48', 'id': 'tt0033467'}, {'title': 'The Departed', 'rank': '49', 'id': 'tt0407887'}, {'title': 'M', 'rank': '50', 'id': 'tt0022100'}, {'title': 'Paths of Glory', 'rank': '51', 'id': 'tt0050825'}, {'title': 'Vertigo', 'rank': '52', 'id': 'tt0052357'}, {'title': 'Django Unchained', 'rank': '53', 'id': 'tt1853728'}, {'title': 'Double Indemnity', 'rank': '54', 'id': 'tt0036775'}, {'title': 'The Dark Knight Rises', 'rank': '55', 'id': 'tt1345836'}, {'title': 'Aliens', 'rank': '56', 'id': 'tt0090605'}, {'title': 'Taxi Driver', 'rank': '57', 'id': 'tt0075314'}, {'title': 'American Beauty', 'rank': '58', 'id': 'tt0169547'}, {'title': 'The Green Mile', 'rank': '59', 'id': 'tt0120689'}, {'title': 'Gladiator', 'rank': '60', 'id': 'tt0172495'}, {'title': 'The Intouchables', 'rank': '61', 'id': 'tt1675434'}, {'title': 'WALL·E', 'rank': '62', 'id': 'tt0910970'}, {'title': 'The Lives of Others', 'rank': '63', 'id': 'tt0405094'}, {'title': 'Toy Story 3', 'rank': '64', 'id': 'tt0435761'}, {'title': 'The Great Dictator', 'rank': '65', 'id': 'tt0032553'}, {'title': 'The Prestige', 'rank': '66', 'id': 'tt0482571'}, {'title': 'A Clockwork Orange', 'rank': '67', 'id': 'tt0066921'}, {'title': 'Lawrence of Arabia', 'rank': '68', 'id': 'tt0056172'}, {'title': 'Amélie', 'rank': '69', 'id': 'tt0211915'}, {'title': 'To Kill a Mockingbird', 'rank': '70', 'id': 'tt0056592'}, {'title': 'Reservoir Dogs', 'rank': '71', 'id': 'tt0105236'}, {'title': 'Das Boot', 'rank': '72', 'id': 'tt0082096'}, {'title': 'The Lion King', 'rank': '73', 'id': 'tt0110357'}, {'title': 'Cinema Paradiso', 'rank': '74', 'id': 'tt0095765'}, {'title': 'Star Wars: Episode VI - Return of the Jedi', 'rank': '75', 'id': 'tt0086190'}, {'title': 'The Treasure of the Sierra Madre', 'rank': '76', 'id': 'tt0040897'}, {'title': 'The Third Man', 'rank': '77', 'id': 'tt0041959'}, {'title': 'Once Upon a Time in America', 'rank': '78', 'id': 'tt0087843'}, {'title': 'Requiem for a Dream', 'rank': '79', 'id': 'tt0180093'}, {'title': 'Eternal Sunshine of the Spotless Mind', 'rank': '80', 'id': 'tt0338013'}, {'title': 'Full Metal Jacket', 'rank': '81', 'id': 'tt0093058'}, {'title': 'Oldboy', 'rank': '82', 'id': 'tt0364569'}, {'title': 'Braveheart', 'rank': '83', 'id': 'tt0112573'}, {'title': 'L.A. Confidential', 'rank': '84', 'id': 'tt0119488'}, {'title': 'Bicycle Thieves', 'rank': '85', 'id': 'tt0040522'}, {'title': 'Chinatown', 'rank': '86', 'id': 'tt0071315'}, {'title': \"Singin' in the Rain\", 'rank': '87', 'id': 'tt0045152'}, {'title': 'Princess Mononoke', 'rank': '88', 'id': 'tt0119698'}, {'title': 'Monty Python and the Holy Grail', 'rank': '89', 'id': 'tt0071853'}, {'title': 'Metropolis', 'rank': '90', 'id': 'tt0017136'}, {'title': 'Rashomon', 'rank': '91', 'id': 'tt0042876'}, {'title': 'Some Like It Hot', 'rank': '92', 'id': 'tt0053291'}, {'title': 'Amadeus', 'rank': '93', 'id': 'tt0086879'}, {'title': '2001: A Space Odyssey', 'rank': '94', 'id': 'tt0062622'}, {'title': 'All About Eve', 'rank': '95', 'id': 'tt0042192'}, {'title': 'Witness for the Prosecution', 'rank': '96', 'id': 'tt0051201'}, {'title': 'The Sting', 'rank': '97', 'id': 'tt0070735'}, {'title': 'The Apartment', 'rank': '98', 'id': 'tt0053604'}, {'title': 'Grave of the Fireflies', 'rank': '99', 'id': 'tt0095327'}, {'title': 'Indiana Jones and the Last Crusade', 'rank': '100', 'id': 'tt0097576'}]\n"
          ],
          "name": "stdout"
        }
      ]
    },
    {
      "cell_type": "code",
      "metadata": {
        "colab": {
          "base_uri": "https://localhost:8080/",
          "height": 423
        },
        "id": "ZXhOF_I1Uwwx",
        "outputId": "0f4420c6-4157-4123-a8dc-9dc6516db948"
      },
      "source": [
        "df = pd.DataFrame(r.json())\n",
        "df"
      ],
      "execution_count": 6,
      "outputs": [
        {
          "output_type": "execute_result",
          "data": {
            "text/html": [
              "<div>\n",
              "<style scoped>\n",
              "    .dataframe tbody tr th:only-of-type {\n",
              "        vertical-align: middle;\n",
              "    }\n",
              "\n",
              "    .dataframe tbody tr th {\n",
              "        vertical-align: top;\n",
              "    }\n",
              "\n",
              "    .dataframe thead th {\n",
              "        text-align: right;\n",
              "    }\n",
              "</style>\n",
              "<table border=\"1\" class=\"dataframe\">\n",
              "  <thead>\n",
              "    <tr style=\"text-align: right;\">\n",
              "      <th></th>\n",
              "      <th>title</th>\n",
              "      <th>rank</th>\n",
              "      <th>id</th>\n",
              "    </tr>\n",
              "  </thead>\n",
              "  <tbody>\n",
              "    <tr>\n",
              "      <th>0</th>\n",
              "      <td>The Shawshank Redemption</td>\n",
              "      <td>1</td>\n",
              "      <td>tt0111161</td>\n",
              "    </tr>\n",
              "    <tr>\n",
              "      <th>1</th>\n",
              "      <td>The Godfather</td>\n",
              "      <td>2</td>\n",
              "      <td>tt0068646</td>\n",
              "    </tr>\n",
              "    <tr>\n",
              "      <th>2</th>\n",
              "      <td>The Godfather: Part II</td>\n",
              "      <td>3</td>\n",
              "      <td>tt0071562</td>\n",
              "    </tr>\n",
              "    <tr>\n",
              "      <th>3</th>\n",
              "      <td>Pulp Fiction</td>\n",
              "      <td>4</td>\n",
              "      <td>tt0110912</td>\n",
              "    </tr>\n",
              "    <tr>\n",
              "      <th>4</th>\n",
              "      <td>The Good, the Bad and the Ugly</td>\n",
              "      <td>5</td>\n",
              "      <td>tt0060196</td>\n",
              "    </tr>\n",
              "    <tr>\n",
              "      <th>...</th>\n",
              "      <td>...</td>\n",
              "      <td>...</td>\n",
              "      <td>...</td>\n",
              "    </tr>\n",
              "    <tr>\n",
              "      <th>95</th>\n",
              "      <td>Witness for the Prosecution</td>\n",
              "      <td>96</td>\n",
              "      <td>tt0051201</td>\n",
              "    </tr>\n",
              "    <tr>\n",
              "      <th>96</th>\n",
              "      <td>The Sting</td>\n",
              "      <td>97</td>\n",
              "      <td>tt0070735</td>\n",
              "    </tr>\n",
              "    <tr>\n",
              "      <th>97</th>\n",
              "      <td>The Apartment</td>\n",
              "      <td>98</td>\n",
              "      <td>tt0053604</td>\n",
              "    </tr>\n",
              "    <tr>\n",
              "      <th>98</th>\n",
              "      <td>Grave of the Fireflies</td>\n",
              "      <td>99</td>\n",
              "      <td>tt0095327</td>\n",
              "    </tr>\n",
              "    <tr>\n",
              "      <th>99</th>\n",
              "      <td>Indiana Jones and the Last Crusade</td>\n",
              "      <td>100</td>\n",
              "      <td>tt0097576</td>\n",
              "    </tr>\n",
              "  </tbody>\n",
              "</table>\n",
              "<p>100 rows × 3 columns</p>\n",
              "</div>"
            ],
            "text/plain": [
              "                                 title rank         id\n",
              "0             The Shawshank Redemption    1  tt0111161\n",
              "1                        The Godfather    2  tt0068646\n",
              "2               The Godfather: Part II    3  tt0071562\n",
              "3                         Pulp Fiction    4  tt0110912\n",
              "4       The Good, the Bad and the Ugly    5  tt0060196\n",
              "..                                 ...  ...        ...\n",
              "95         Witness for the Prosecution   96  tt0051201\n",
              "96                           The Sting   97  tt0070735\n",
              "97                       The Apartment   98  tt0053604\n",
              "98              Grave of the Fireflies   99  tt0095327\n",
              "99  Indiana Jones and the Last Crusade  100  tt0097576\n",
              "\n",
              "[100 rows x 3 columns]"
            ]
          },
          "metadata": {
            "tags": []
          },
          "execution_count": 6
        }
      ]
    },
    {
      "cell_type": "code",
      "metadata": {
        "colab": {
          "base_uri": "https://localhost:8080/",
          "height": 206
        },
        "id": "5haLhiHlUzaO",
        "outputId": "5bb281a6-3475-474f-e14d-8280a40cf04b"
      },
      "source": [
        "df.head(5)"
      ],
      "execution_count": 40,
      "outputs": [
        {
          "output_type": "execute_result",
          "data": {
            "text/html": [
              "<div>\n",
              "<style scoped>\n",
              "    .dataframe tbody tr th:only-of-type {\n",
              "        vertical-align: middle;\n",
              "    }\n",
              "\n",
              "    .dataframe tbody tr th {\n",
              "        vertical-align: top;\n",
              "    }\n",
              "\n",
              "    .dataframe thead th {\n",
              "        text-align: right;\n",
              "    }\n",
              "</style>\n",
              "<table border=\"1\" class=\"dataframe\">\n",
              "  <thead>\n",
              "    <tr style=\"text-align: right;\">\n",
              "      <th></th>\n",
              "      <th>Movie Name</th>\n",
              "      <th>Rank</th>\n",
              "      <th>MovieID</th>\n",
              "    </tr>\n",
              "  </thead>\n",
              "  <tbody>\n",
              "    <tr>\n",
              "      <th>0</th>\n",
              "      <td>The Shawshank Redemption</td>\n",
              "      <td>1</td>\n",
              "      <td>tt0111161</td>\n",
              "    </tr>\n",
              "    <tr>\n",
              "      <th>1</th>\n",
              "      <td>The Godfather</td>\n",
              "      <td>2</td>\n",
              "      <td>tt0068646</td>\n",
              "    </tr>\n",
              "    <tr>\n",
              "      <th>2</th>\n",
              "      <td>The Godfather: Part II</td>\n",
              "      <td>3</td>\n",
              "      <td>tt0071562</td>\n",
              "    </tr>\n",
              "    <tr>\n",
              "      <th>3</th>\n",
              "      <td>Pulp Fiction</td>\n",
              "      <td>4</td>\n",
              "      <td>tt0110912</td>\n",
              "    </tr>\n",
              "    <tr>\n",
              "      <th>4</th>\n",
              "      <td>The Good, the Bad and the Ugly</td>\n",
              "      <td>5</td>\n",
              "      <td>tt0060196</td>\n",
              "    </tr>\n",
              "  </tbody>\n",
              "</table>\n",
              "</div>"
            ],
            "text/plain": [
              "                       Movie Name Rank    MovieID\n",
              "0        The Shawshank Redemption    1  tt0111161\n",
              "1                   The Godfather    2  tt0068646\n",
              "2          The Godfather: Part II    3  tt0071562\n",
              "3                    Pulp Fiction    4  tt0110912\n",
              "4  The Good, the Bad and the Ugly    5  tt0060196"
            ]
          },
          "metadata": {
            "tags": []
          },
          "execution_count": 40
        }
      ]
    },
    {
      "cell_type": "code",
      "metadata": {
        "colab": {
          "base_uri": "https://localhost:8080/",
          "height": 206
        },
        "id": "GDOy7VdsVf4c",
        "outputId": "b5577d8e-b26e-4b35-c6ac-c4be9c511654"
      },
      "source": [
        "df.tail(5)"
      ],
      "execution_count": 39,
      "outputs": [
        {
          "output_type": "execute_result",
          "data": {
            "text/html": [
              "<div>\n",
              "<style scoped>\n",
              "    .dataframe tbody tr th:only-of-type {\n",
              "        vertical-align: middle;\n",
              "    }\n",
              "\n",
              "    .dataframe tbody tr th {\n",
              "        vertical-align: top;\n",
              "    }\n",
              "\n",
              "    .dataframe thead th {\n",
              "        text-align: right;\n",
              "    }\n",
              "</style>\n",
              "<table border=\"1\" class=\"dataframe\">\n",
              "  <thead>\n",
              "    <tr style=\"text-align: right;\">\n",
              "      <th></th>\n",
              "      <th>Movie Name</th>\n",
              "      <th>Rank</th>\n",
              "      <th>MovieID</th>\n",
              "    </tr>\n",
              "  </thead>\n",
              "  <tbody>\n",
              "    <tr>\n",
              "      <th>95</th>\n",
              "      <td>Witness for the Prosecution</td>\n",
              "      <td>96</td>\n",
              "      <td>tt0051201</td>\n",
              "    </tr>\n",
              "    <tr>\n",
              "      <th>96</th>\n",
              "      <td>The Sting</td>\n",
              "      <td>97</td>\n",
              "      <td>tt0070735</td>\n",
              "    </tr>\n",
              "    <tr>\n",
              "      <th>97</th>\n",
              "      <td>The Apartment</td>\n",
              "      <td>98</td>\n",
              "      <td>tt0053604</td>\n",
              "    </tr>\n",
              "    <tr>\n",
              "      <th>98</th>\n",
              "      <td>Grave of the Fireflies</td>\n",
              "      <td>99</td>\n",
              "      <td>tt0095327</td>\n",
              "    </tr>\n",
              "    <tr>\n",
              "      <th>99</th>\n",
              "      <td>Indiana Jones and the Last Crusade</td>\n",
              "      <td>100</td>\n",
              "      <td>tt0097576</td>\n",
              "    </tr>\n",
              "  </tbody>\n",
              "</table>\n",
              "</div>"
            ],
            "text/plain": [
              "                            Movie Name Rank    MovieID\n",
              "95         Witness for the Prosecution   96  tt0051201\n",
              "96                           The Sting   97  tt0070735\n",
              "97                       The Apartment   98  tt0053604\n",
              "98              Grave of the Fireflies   99  tt0095327\n",
              "99  Indiana Jones and the Last Crusade  100  tt0097576"
            ]
          },
          "metadata": {
            "tags": []
          },
          "execution_count": 39
        }
      ]
    },
    {
      "cell_type": "code",
      "metadata": {
        "colab": {
          "base_uri": "https://localhost:8080/"
        },
        "id": "wiIQgiKYWHqK",
        "outputId": "eaa12ee4-d88e-47a1-b7c4-0dc8521f5860"
      },
      "source": [
        "df.info()"
      ],
      "execution_count": 12,
      "outputs": [
        {
          "output_type": "stream",
          "text": [
            "<class 'pandas.core.frame.DataFrame'>\n",
            "RangeIndex: 100 entries, 0 to 99\n",
            "Data columns (total 3 columns):\n",
            " #   Column  Non-Null Count  Dtype \n",
            "---  ------  --------------  ----- \n",
            " 0   title   100 non-null    object\n",
            " 1   rank    100 non-null    object\n",
            " 2   id      100 non-null    object\n",
            "dtypes: object(3)\n",
            "memory usage: 2.5+ KB\n"
          ],
          "name": "stdout"
        }
      ]
    },
    {
      "cell_type": "code",
      "metadata": {
        "colab": {
          "base_uri": "https://localhost:8080/"
        },
        "id": "P9OP6c32WN9o",
        "outputId": "2ef272e3-e7ed-4749-d152-452309b84405"
      },
      "source": [
        "df.shape"
      ],
      "execution_count": 13,
      "outputs": [
        {
          "output_type": "execute_result",
          "data": {
            "text/plain": [
              "(100, 3)"
            ]
          },
          "metadata": {
            "tags": []
          },
          "execution_count": 13
        }
      ]
    },
    {
      "cell_type": "code",
      "metadata": {
        "colab": {
          "base_uri": "https://localhost:8080/"
        },
        "id": "VD3OmSerWRhV",
        "outputId": "e7f2835b-5270-4b2e-8edb-c546bcc0c2e4"
      },
      "source": [
        "df.columns"
      ],
      "execution_count": 15,
      "outputs": [
        {
          "output_type": "execute_result",
          "data": {
            "text/plain": [
              "Index(['title', 'rank', 'id'], dtype='object')"
            ]
          },
          "metadata": {
            "tags": []
          },
          "execution_count": 15
        }
      ]
    },
    {
      "cell_type": "code",
      "metadata": {
        "colab": {
          "base_uri": "https://localhost:8080/"
        },
        "id": "hjcmY-5bWbGt",
        "outputId": "4c5e7264-97e8-4c38-ba2a-6801f8996b23"
      },
      "source": [
        "df.rename(columns={'title':'Movie Name', 'rank':'Rank', 'id':'MovieID'}, inplace=True)\n",
        "df.columns"
      ],
      "execution_count": 20,
      "outputs": [
        {
          "output_type": "execute_result",
          "data": {
            "text/plain": [
              "Index(['Movie Name', 'Rank', 'MovieID'], dtype='object')"
            ]
          },
          "metadata": {
            "tags": []
          },
          "execution_count": 20
        }
      ]
    },
    {
      "cell_type": "code",
      "metadata": {
        "colab": {
          "base_uri": "https://localhost:8080/",
          "height": 423
        },
        "id": "HaPmHSayXyJZ",
        "outputId": "981f2917-e5ae-46e0-cf1e-5fad47297477"
      },
      "source": [
        "df.isnull()"
      ],
      "execution_count": 21,
      "outputs": [
        {
          "output_type": "execute_result",
          "data": {
            "text/html": [
              "<div>\n",
              "<style scoped>\n",
              "    .dataframe tbody tr th:only-of-type {\n",
              "        vertical-align: middle;\n",
              "    }\n",
              "\n",
              "    .dataframe tbody tr th {\n",
              "        vertical-align: top;\n",
              "    }\n",
              "\n",
              "    .dataframe thead th {\n",
              "        text-align: right;\n",
              "    }\n",
              "</style>\n",
              "<table border=\"1\" class=\"dataframe\">\n",
              "  <thead>\n",
              "    <tr style=\"text-align: right;\">\n",
              "      <th></th>\n",
              "      <th>Movie Name</th>\n",
              "      <th>Rank</th>\n",
              "      <th>MovieID</th>\n",
              "    </tr>\n",
              "  </thead>\n",
              "  <tbody>\n",
              "    <tr>\n",
              "      <th>0</th>\n",
              "      <td>False</td>\n",
              "      <td>False</td>\n",
              "      <td>False</td>\n",
              "    </tr>\n",
              "    <tr>\n",
              "      <th>1</th>\n",
              "      <td>False</td>\n",
              "      <td>False</td>\n",
              "      <td>False</td>\n",
              "    </tr>\n",
              "    <tr>\n",
              "      <th>2</th>\n",
              "      <td>False</td>\n",
              "      <td>False</td>\n",
              "      <td>False</td>\n",
              "    </tr>\n",
              "    <tr>\n",
              "      <th>3</th>\n",
              "      <td>False</td>\n",
              "      <td>False</td>\n",
              "      <td>False</td>\n",
              "    </tr>\n",
              "    <tr>\n",
              "      <th>4</th>\n",
              "      <td>False</td>\n",
              "      <td>False</td>\n",
              "      <td>False</td>\n",
              "    </tr>\n",
              "    <tr>\n",
              "      <th>...</th>\n",
              "      <td>...</td>\n",
              "      <td>...</td>\n",
              "      <td>...</td>\n",
              "    </tr>\n",
              "    <tr>\n",
              "      <th>95</th>\n",
              "      <td>False</td>\n",
              "      <td>False</td>\n",
              "      <td>False</td>\n",
              "    </tr>\n",
              "    <tr>\n",
              "      <th>96</th>\n",
              "      <td>False</td>\n",
              "      <td>False</td>\n",
              "      <td>False</td>\n",
              "    </tr>\n",
              "    <tr>\n",
              "      <th>97</th>\n",
              "      <td>False</td>\n",
              "      <td>False</td>\n",
              "      <td>False</td>\n",
              "    </tr>\n",
              "    <tr>\n",
              "      <th>98</th>\n",
              "      <td>False</td>\n",
              "      <td>False</td>\n",
              "      <td>False</td>\n",
              "    </tr>\n",
              "    <tr>\n",
              "      <th>99</th>\n",
              "      <td>False</td>\n",
              "      <td>False</td>\n",
              "      <td>False</td>\n",
              "    </tr>\n",
              "  </tbody>\n",
              "</table>\n",
              "<p>100 rows × 3 columns</p>\n",
              "</div>"
            ],
            "text/plain": [
              "    Movie Name   Rank  MovieID\n",
              "0        False  False    False\n",
              "1        False  False    False\n",
              "2        False  False    False\n",
              "3        False  False    False\n",
              "4        False  False    False\n",
              "..         ...    ...      ...\n",
              "95       False  False    False\n",
              "96       False  False    False\n",
              "97       False  False    False\n",
              "98       False  False    False\n",
              "99       False  False    False\n",
              "\n",
              "[100 rows x 3 columns]"
            ]
          },
          "metadata": {
            "tags": []
          },
          "execution_count": 21
        }
      ]
    },
    {
      "cell_type": "code",
      "metadata": {
        "colab": {
          "base_uri": "https://localhost:8080/"
        },
        "id": "02WYme3gYOwR",
        "outputId": "99bb6a55-ed87-49ea-dd59-2aac6376bc36"
      },
      "source": [
        "df.isnull().sum()"
      ],
      "execution_count": 22,
      "outputs": [
        {
          "output_type": "execute_result",
          "data": {
            "text/plain": [
              "Movie Name    0\n",
              "Rank          0\n",
              "MovieID       0\n",
              "dtype: int64"
            ]
          },
          "metadata": {
            "tags": []
          },
          "execution_count": 22
        }
      ]
    },
    {
      "cell_type": "code",
      "metadata": {
        "colab": {
          "base_uri": "https://localhost:8080/"
        },
        "id": "2IMvezVHYUyT",
        "outputId": "32e6fa3b-f7e9-46ed-c403-359ee4350829"
      },
      "source": [
        "name=df['Movie Name']\n",
        "name"
      ],
      "execution_count": 23,
      "outputs": [
        {
          "output_type": "execute_result",
          "data": {
            "text/plain": [
              "0               The Shawshank Redemption\n",
              "1                          The Godfather\n",
              "2                 The Godfather: Part II\n",
              "3                           Pulp Fiction\n",
              "4         The Good, the Bad and the Ugly\n",
              "                     ...                \n",
              "95           Witness for the Prosecution\n",
              "96                             The Sting\n",
              "97                         The Apartment\n",
              "98                Grave of the Fireflies\n",
              "99    Indiana Jones and the Last Crusade\n",
              "Name: Movie Name, Length: 100, dtype: object"
            ]
          },
          "metadata": {
            "tags": []
          },
          "execution_count": 23
        }
      ]
    },
    {
      "cell_type": "code",
      "metadata": {
        "colab": {
          "base_uri": "https://localhost:8080/",
          "height": 175
        },
        "id": "ydWYOsAVY28b",
        "outputId": "e271c711-819f-4d77-d67a-3eee316961e6"
      },
      "source": [
        "df.describe()"
      ],
      "execution_count": 24,
      "outputs": [
        {
          "output_type": "execute_result",
          "data": {
            "text/html": [
              "<div>\n",
              "<style scoped>\n",
              "    .dataframe tbody tr th:only-of-type {\n",
              "        vertical-align: middle;\n",
              "    }\n",
              "\n",
              "    .dataframe tbody tr th {\n",
              "        vertical-align: top;\n",
              "    }\n",
              "\n",
              "    .dataframe thead th {\n",
              "        text-align: right;\n",
              "    }\n",
              "</style>\n",
              "<table border=\"1\" class=\"dataframe\">\n",
              "  <thead>\n",
              "    <tr style=\"text-align: right;\">\n",
              "      <th></th>\n",
              "      <th>Movie Name</th>\n",
              "      <th>Rank</th>\n",
              "      <th>MovieID</th>\n",
              "    </tr>\n",
              "  </thead>\n",
              "  <tbody>\n",
              "    <tr>\n",
              "      <th>count</th>\n",
              "      <td>100</td>\n",
              "      <td>100</td>\n",
              "      <td>100</td>\n",
              "    </tr>\n",
              "    <tr>\n",
              "      <th>unique</th>\n",
              "      <td>100</td>\n",
              "      <td>100</td>\n",
              "      <td>100</td>\n",
              "    </tr>\n",
              "    <tr>\n",
              "      <th>top</th>\n",
              "      <td>Star Wars</td>\n",
              "      <td>3</td>\n",
              "      <td>tt0099685</td>\n",
              "    </tr>\n",
              "    <tr>\n",
              "      <th>freq</th>\n",
              "      <td>1</td>\n",
              "      <td>1</td>\n",
              "      <td>1</td>\n",
              "    </tr>\n",
              "  </tbody>\n",
              "</table>\n",
              "</div>"
            ],
            "text/plain": [
              "       Movie Name Rank    MovieID\n",
              "count         100  100        100\n",
              "unique        100  100        100\n",
              "top     Star Wars    3  tt0099685\n",
              "freq            1    1          1"
            ]
          },
          "metadata": {
            "tags": []
          },
          "execution_count": 24
        }
      ]
    },
    {
      "cell_type": "code",
      "metadata": {
        "colab": {
          "base_uri": "https://localhost:8080/"
        },
        "id": "wsoFLfwvZH72",
        "outputId": "6405a2c4-b0b2-479f-e2e9-c06e5e4352d4"
      },
      "source": [
        "StarWars1 = df.iloc[15]\n",
        "StarWars1"
      ],
      "execution_count": 33,
      "outputs": [
        {
          "output_type": "execute_result",
          "data": {
            "text/plain": [
              "Movie Name    Star Wars\n",
              "Rank                 16\n",
              "MovieID       tt0076759\n",
              "Name: 15, dtype: object"
            ]
          },
          "metadata": {
            "tags": []
          },
          "execution_count": 33
        }
      ]
    },
    {
      "cell_type": "code",
      "metadata": {
        "colab": {
          "base_uri": "https://localhost:8080/"
        },
        "id": "cCyDPY6UZX2B",
        "outputId": "405058ad-e0ab-4c0b-e3ba-e0229c850763"
      },
      "source": [
        "StarWars=(df['Movie Name']==\"Star Wars\")\n",
        "StarWars.head(50)"
      ],
      "execution_count": 37,
      "outputs": [
        {
          "output_type": "execute_result",
          "data": {
            "text/plain": [
              "0     False\n",
              "1     False\n",
              "2     False\n",
              "3     False\n",
              "4     False\n",
              "5     False\n",
              "6     False\n",
              "7     False\n",
              "8     False\n",
              "9     False\n",
              "10    False\n",
              "11    False\n",
              "12    False\n",
              "13    False\n",
              "14    False\n",
              "15     True\n",
              "16    False\n",
              "17    False\n",
              "18    False\n",
              "19    False\n",
              "20    False\n",
              "21    False\n",
              "22    False\n",
              "23    False\n",
              "24    False\n",
              "25    False\n",
              "26    False\n",
              "27    False\n",
              "28    False\n",
              "29    False\n",
              "30    False\n",
              "31    False\n",
              "32    False\n",
              "33    False\n",
              "34    False\n",
              "35    False\n",
              "36    False\n",
              "37    False\n",
              "38    False\n",
              "39    False\n",
              "40    False\n",
              "41    False\n",
              "42    False\n",
              "43    False\n",
              "44    False\n",
              "45    False\n",
              "46    False\n",
              "47    False\n",
              "48    False\n",
              "49    False\n",
              "Name: Movie Name, dtype: bool"
            ]
          },
          "metadata": {
            "tags": []
          },
          "execution_count": 37
        }
      ]
    },
    {
      "cell_type": "code",
      "metadata": {
        "colab": {
          "base_uri": "https://localhost:8080/"
        },
        "id": "rgVII7axbFDr",
        "outputId": "15c2c658-cc84-44ca-a932-9528574e6904"
      },
      "source": [
        "StarWars1 = df.iloc[15]\n",
        "StarWars1"
      ],
      "execution_count": 38,
      "outputs": [
        {
          "output_type": "execute_result",
          "data": {
            "text/plain": [
              "Movie Name    Star Wars\n",
              "Rank                 16\n",
              "MovieID       tt0076759\n",
              "Name: 15, dtype: object"
            ]
          },
          "metadata": {
            "tags": []
          },
          "execution_count": 38
        }
      ]
    },
    {
      "cell_type": "code",
      "metadata": {
        "id": "rkYZu5fNbze2"
      },
      "source": [
        ""
      ],
      "execution_count": null,
      "outputs": []
    }
  ]
}