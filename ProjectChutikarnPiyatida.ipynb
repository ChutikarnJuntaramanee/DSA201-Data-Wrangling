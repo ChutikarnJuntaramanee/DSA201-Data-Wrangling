{
 "cells": [
  {
   "cell_type": "code",
   "execution_count": null,
   "metadata": {},
   "outputs": [],
   "source": [
    "#PyFilesystem"
   ]
  },
  {
   "cell_type": "code",
   "execution_count": 3,
   "metadata": {},
   "outputs": [
    {
     "name": "stdout",
     "output_type": "stream",
     "text": [
      "Requirement already satisfied: fs in c:\\users\\asus\\anaconda3\\lib\\site-packages (2.4.14)\n",
      "Requirement already satisfied: appdirs~=1.4.3 in c:\\users\\asus\\anaconda3\\lib\\site-packages (from fs) (1.4.4)\n",
      "Requirement already satisfied: setuptools in c:\\users\\asus\\anaconda3\\lib\\site-packages (from fs) (50.3.1.post20201107)\n",
      "Requirement already satisfied: pytz in c:\\users\\asus\\anaconda3\\lib\\site-packages (from fs) (2020.1)\n",
      "Requirement already satisfied: six~=1.10 in c:\\users\\asus\\anaconda3\\lib\\site-packages (from fs) (1.15.0)\n",
      "Note: you may need to restart the kernel to use updated packages.\n"
     ]
    }
   ],
   "source": [
    "pip install fs"
   ]
  },
  {
   "cell_type": "code",
   "execution_count": 4,
   "metadata": {},
   "outputs": [],
   "source": [
    "from fs.osfs import OSFS"
   ]
  },
  {
   "cell_type": "code",
   "execution_count": 5,
   "metadata": {},
   "outputs": [],
   "source": [
    "from selenium import webdriver\n",
    "from bs4 import BeautifulSoup\n",
    "import time\n",
    "import requests\n",
    "import urllib.request"
   ]
  },
  {
   "cell_type": "code",
   "execution_count": null,
   "metadata": {},
   "outputs": [],
   "source": [
    "driver = webdriver.Chrome(executable_path = 'C:\\ML\\chromedriver')\n",
    "site = 'https://google.com/search?q='+'Audi A7'+'&tbm=isch'+'&tbs=isz:lt,islt:svga'\n",
    "driver.get(site)\n",
    "\n",
    "for i in range(0,7):\n",
    "    driver.execute_script(\"window.scrollBy(0,document.body.scrollHeight)\")\n",
    "    try:\n",
    "\t\t# for clicking show more results button\n",
    "        driver.find_element_by_xpath('//*[@id=\"islmp\"]/div/div/div/div/div[2]/div[2]/input').click()\n",
    "    except Exception as e:\n",
    "        pass\n",
    "    time.sleep(3)\n",
    "\n",
    "soup = BeautifulSoup(driver.page_source, 'html.parser')\n",
    "print(soup)"
   ]
  },
  {
   "cell_type": "code",
   "execution_count": null,
   "metadata": {},
   "outputs": [],
   "source": [
    "img_tags = soup.find_all('img',class_ = 'rg_i')\n",
    "count = 1\n",
    "for i in img_tags:\n",
    "    try:\n",
    "        print(i['src'])\n",
    "        urllib.request.urlretrieve(i['src'], str(count)+\".jpg\")\n",
    "        print('\\n******\\n')\n",
    "        count += 1\n",
    "    except Exception as e:\n",
    "        pass"
   ]
  },
  {
   "cell_type": "code",
   "execution_count": null,
   "metadata": {},
   "outputs": [],
   "source": [
    "#Project\n",
    "keywords = ['Chocolate' , 'Milk' , 'Tea' , 'Matcha Latte']\n",
    "driver = webdriver.Chrome(executable_path = 'C:\\ML\\chromedriver')\n",
    "for keyword in keywords:\n",
    "    driver = webdriver.Chrome(executable_path = 'C:\\ML\\chromedriver')\n",
    "    site = 'https://google.com/search?q='+keyword+'&tbm=isch'+'&tbs=isz:lt,islt:svga'\n",
    "    driver.get(site)\n",
    "    \n",
    "    for i in range(0,7):\n",
    "        driver.execute_script(\"window.scrollBy(0,document.body.scrollHeight)\")\n",
    "        try:\n",
    "        # for clicking show more results button\n",
    "            driver.find_element_by_xpath('//*[@id=\"islmp\"]/div/div/div/div/div[2]/div[2]/input').click()\n",
    "        except Exception as e:\n",
    "            pass\n",
    "        time.sleep(3)\n",
    "        \n",
    "    soup = BeautifulSoup(driver.page_source, 'html.parser')\n",
    "    img_tags = soup.find_all('img', class_ = 'rg_i')\n",
    "    with OSFS('./download') as myfs:\n",
    "        if (not myfs.exists(keyword)):\n",
    "            myfs.makedir(keyword)\n",
    "    count = 1 \n",
    "    for i in img_tags:\n",
    "        try:\n",
    "            path = 'download/'+ keyword +'/'+keyword + str(count) + '.jpg'\n",
    "            urllib.request.urlretrieve(i['src'], path)\n",
    "            count += 1\n",
    "        except Exception as e:\n",
    "            pass\n",
    "        "
   ]
  }
 ],
 "metadata": {
  "kernelspec": {
   "display_name": "Python 3",
   "language": "python",
   "name": "python3"
  },
  "language_info": {
   "codemirror_mode": {
    "name": "ipython",
    "version": 3
   },
   "file_extension": ".py",
   "mimetype": "text/x-python",
   "name": "python",
   "nbconvert_exporter": "python",
   "pygments_lexer": "ipython3",
   "version": "3.8.5"
  }
 },
 "nbformat": 4,
 "nbformat_minor": 4
}
